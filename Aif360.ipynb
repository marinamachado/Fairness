{
 "cells": [
  {
   "cell_type": "code",
   "execution_count": 29,
   "metadata": {},
   "outputs": [],
   "source": [
    "import aif360.datasets as ai\n",
    "from aif360.datasets import AdultDataset\n",
    "from aif360.algorithms.preprocessing import DisparateImpactRemover\n"
   ]
  },
  {
   "cell_type": "code",
   "execution_count": 30,
   "metadata": {},
   "outputs": [
    {
     "name": "stderr",
     "output_type": "stream",
     "text": [
      "WARNING:root:Missing Data: 3620 rows removed from AdultDataset.\n"
     ]
    }
   ],
   "source": [
    "ad = AdultDataset(instance_weights_name='fnlwgt',features_to_drop=[])"
   ]
  },
  {
   "cell_type": "code",
   "execution_count": 31,
   "metadata": {},
   "outputs": [
    {
     "name": "stdout",
     "output_type": "stream",
     "text": [
      "['age', 'education-num', 'sex']\n",
      "['income-per-year']\n"
     ]
    }
   ],
   "source": [
    "single_protected = ['sex']\n",
    "single_privileged = [['Male']]\n",
    "ad = AdultDataset(protected_attribute_names=single_protected,privileged_classes=single_privileged,categorical_features=[],features_to_keep=['age', 'education-num'])\n",
    "print(ad.feature_names)\n",
    "print(ad.label_names)\n"
   ]
  },
  {
   "cell_type": "code",
   "execution_count": 32,
   "metadata": {},
   "outputs": [],
   "source": [
    "ad_train, ad_test = ad.split([0.7], shuffle=True)\n"
   ]
  },
  {
   "cell_type": "code",
   "execution_count": 34,
   "metadata": {},
   "outputs": [],
   "source": [
    "DIR = DisparateImpactRemover(sensitive_attribute = 'sex')\n",
    "modif_dataset = DIR.fit_transform(ad_train)\n"
   ]
  },
  {
   "cell_type": "code",
   "execution_count": 35,
   "metadata": {},
   "outputs": [
    {
     "data": {
      "text/plain": [
       "               instance weights features                                    \\\n",
       "                                                       protected attribute   \n",
       "                                     age education-num                 sex   \n",
       "instance names                                                               \n",
       "31139                       1.0     26.0           9.0                 0.0   \n",
       "25252                       1.0     44.0          11.0                 1.0   \n",
       "35696                       1.0     25.0          10.0                 1.0   \n",
       "15553                       1.0     31.0           5.0                 1.0   \n",
       "28169                       1.0     34.0          10.0                 1.0   \n",
       "...                         ...      ...           ...                 ...   \n",
       "23570                       1.0     28.0          10.0                 1.0   \n",
       "29445                       1.0     39.0          11.0                 1.0   \n",
       "29156                       1.0     37.0          13.0                 1.0   \n",
       "12290                       1.0     27.0           7.0                 1.0   \n",
       "32342                       1.0     30.0           9.0                 1.0   \n",
       "\n",
       "               labels  \n",
       "                       \n",
       "                       \n",
       "instance names         \n",
       "31139             0.0  \n",
       "25252             0.0  \n",
       "35696             0.0  \n",
       "15553             0.0  \n",
       "28169             0.0  \n",
       "...               ...  \n",
       "23570             0.0  \n",
       "29445             0.0  \n",
       "29156             1.0  \n",
       "12290             0.0  \n",
       "32342             0.0  \n",
       "\n",
       "[34189 rows x 5 columns]"
      ]
     },
     "execution_count": 35,
     "metadata": {},
     "output_type": "execute_result"
    }
   ],
   "source": [
    "modif_dataset"
   ]
  },
  {
   "cell_type": "markdown",
   "metadata": {},
   "source": [
    "Ler um dataset externo da lib"
   ]
  },
  {
   "cell_type": "code",
   "execution_count": 39,
   "metadata": {},
   "outputs": [],
   "source": [
    "# Exemplo\n",
    "\n",
    "# binaryLabelDataset = aif360.datasets.BinaryLabelDataset(\n",
    "#     favorable_label=1,\n",
    "#     unfavorable_label=0,\n",
    "#     df=encoded_df,\n",
    "#     label_names=['Loan_Status'],\n",
    "#     protected_attribute_names=['Gender'])"
   ]
  },
  {
   "cell_type": "code",
   "execution_count": null,
   "metadata": {},
   "outputs": [],
   "source": [
    "# Depois trazer de volta como df\n",
    "\n",
    "# di = DisparateImpactRemover(repair_level = 1.0)\n",
    "# dataset_transf_train = di.fit_transform(binaryLabelDataset)\n",
    "# transformed = dataset_transf_train.convert_to_dataframe()[0]"
   ]
  }
 ],
 "metadata": {
  "kernelspec": {
   "display_name": "Python 3",
   "language": "python",
   "name": "python3"
  },
  "language_info": {
   "codemirror_mode": {
    "name": "ipython",
    "version": 3
   },
   "file_extension": ".py",
   "mimetype": "text/x-python",
   "name": "python",
   "nbconvert_exporter": "python",
   "pygments_lexer": "ipython3",
   "version": "3.8.6"
  }
 },
 "nbformat": 4,
 "nbformat_minor": 4
}
